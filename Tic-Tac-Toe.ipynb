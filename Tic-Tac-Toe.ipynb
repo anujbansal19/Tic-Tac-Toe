{
 "cells": [
  {
   "cell_type": "code",
   "execution_count": 1,
   "id": "96d7f71c",
   "metadata": {},
   "outputs": [],
   "source": [
    "board=[' ']*10\n",
    "used_num=[]\n",
    "pos1=''\n",
    "pos2=''"
   ]
  },
  {
   "cell_type": "code",
   "execution_count": 2,
   "id": "7edb3fe9",
   "metadata": {},
   "outputs": [],
   "source": [
    "from IPython.display import clear_output\n",
    "\n",
    "def displayBoard():\n",
    "    clear_output()\n",
    "    print(board[7]+'|'+board[8]+'|'+board[9])\n",
    "    print('-|-|-')\n",
    "    print(board[4]+'|'+board[5]+'|'+board[6])\n",
    "    print('-|-|-')\n",
    "    print(board[1]+'|'+board[2]+'|'+board[3])"
   ]
  },
  {
   "cell_type": "code",
   "execution_count": 3,
   "id": "4813c8bc",
   "metadata": {},
   "outputs": [],
   "source": [
    "def player_marker():\n",
    "    marker=''\n",
    "    while marker!='X' and marker!='O':\n",
    "        marker=input('Player 1, enter your mark (X,O): ').upper()\n",
    "        if marker in ['X','O']:\n",
    "            p1=marker\n",
    "            if p1=='X':\n",
    "                p2='O'\n",
    "            else:\n",
    "                p2='X'\n",
    "        else:\n",
    "            print('Wrong mark entered! Try again')\n",
    "    return [p1,p2]"
   ]
  },
  {
   "cell_type": "code",
   "execution_count": 4,
   "id": "eee3fc54",
   "metadata": {},
   "outputs": [],
   "source": [
    "def setPosPlayer1(p1):\n",
    "    \n",
    "    setPos1=False\n",
    "    \n",
    "    while setPos1==False:\n",
    "        pos1=input('Player 1, enter your position number (1-9): ')\n",
    "        if pos1.isdigit():\n",
    "            if int(pos1) in range(1,10):\n",
    "                if int(pos1) not in used_num:\n",
    "                    board[int(pos1)]=p1\n",
    "                    used_num.append(int(pos1))\n",
    "                    setPos1=True\n",
    "                    break\n",
    "                else:\n",
    "                    print('This place is already been marked!')\n",
    "            else:\n",
    "                print('Out of range! Try again')\n",
    "        else:\n",
    "            print('Invalid position! Try again')"
   ]
  },
  {
   "cell_type": "code",
   "execution_count": 5,
   "id": "7efeb9ed",
   "metadata": {},
   "outputs": [],
   "source": [
    "def setPosPlayer2(p2):\n",
    "    \n",
    "    setPos2=False\n",
    "    \n",
    "    while setPos2==False:\n",
    "        pos2=input('Player 2, enter your position number (1-9): ')\n",
    "        if pos2.isdigit():\n",
    "            if int(pos2) in range(1,10):\n",
    "                if int(pos2) not in used_num:\n",
    "                    board[int(pos2)]=p2\n",
    "                    used_num.append(int(pos2))\n",
    "                    setPos2=True\n",
    "                    break\n",
    "                else:\n",
    "                    print('This place is already been marked!')\n",
    "            else:\n",
    "                print('Out of range! Try again')\n",
    "        else:\n",
    "            print('Invalid position! Try again')"
   ]
  },
  {
   "cell_type": "code",
   "execution_count": 6,
   "id": "d542e25b",
   "metadata": {},
   "outputs": [],
   "source": [
    "def result(p1,p2):\n",
    "    \n",
    "    res=False\n",
    "    # FOR HORIZONTAL\n",
    "    \n",
    "    \n",
    "    if ((board[1]==p1 and board[2]==p1 and board[3]==p1) or (board[1]==p2 and board[2]==p2 and board[3]==p2) ):\n",
    "        res=True\n",
    "    if ((board[4]==p1 and board[5]==p1 and board[6]==p1) or (board[4]==p2 and board[5]==p2 and board[6]==p2) ):\n",
    "        res=True\n",
    "    if ((board[7]==p1 and board[8]==p1 and board[9]==p1) or (board[7]==p2 and board[8]==p2 and board[9]==p2) ):\n",
    "        res=True\n",
    "    \n",
    "    # FOR VERTICAL\n",
    "    \n",
    "    if ((board[1]==p1 and board[4]==p1 and board[7]==p1) or (board[1]==p2 and board[4]==p2 and board[7]==p2) ):\n",
    "        res=True\n",
    "    if ((board[2]==p1 and board[5]==p1 and board[8]==p1) or (board[2]==p2 and board[5]==p2 and board[8]==p2) ):\n",
    "        res=True\n",
    "    if ((board[3]==p1 and board[6]==p1 and board[9]==p1) or (board[3]==p2 and board[6]==p2 and board[9]==p2) ):\n",
    "        res=True\n",
    "        \n",
    "    #FOR DIAGONAL\n",
    "    \n",
    "    if ((board[1]==p1 and board[5]==p1 and board[9]==p1) or (board[1]==p2 and board[5]==p2 and board[9]==p2) ):\n",
    "        res=True\n",
    "    if ((board[3]==p1 and board[5]==p1 and board[7]==p1) or (board[3]==p2 and board[5]==p2 and board[7]==p2) ):\n",
    "        res=True\n",
    "        \n",
    "    return res"
   ]
  },
  {
   "cell_type": "code",
   "execution_count": 7,
   "id": "84e50dc9",
   "metadata": {},
   "outputs": [
    {
     "name": "stdout",
     "output_type": "stream",
     "text": [
      "Player 1, enter your mark (X,O): X\n"
     ]
    }
   ],
   "source": [
    "mylist=player_marker()"
   ]
  },
  {
   "cell_type": "code",
   "execution_count": 8,
   "id": "ec7de9d1",
   "metadata": {},
   "outputs": [],
   "source": [
    "p1=mylist[0]\n",
    "p2=mylist[1]"
   ]
  },
  {
   "cell_type": "code",
   "execution_count": 9,
   "id": "2fe34f83",
   "metadata": {},
   "outputs": [
    {
     "name": "stdout",
     "output_type": "stream",
     "text": [
      " |X| \n",
      "-|-|-\n",
      "O|X|O\n",
      "-|-|-\n",
      "X|X|O\n",
      "Game is won by Player 1!\n"
     ]
    }
   ],
   "source": [
    "finishP1=False\n",
    "finishP2=False\n",
    "while finishP1==False and finishP2==False:\n",
    "    setPosPlayer1(p1)\n",
    "    displayBoard()\n",
    "    if result(p1,p2)==True:\n",
    "        finishP1=True\n",
    "        break\n",
    "    else:\n",
    "        setPosPlayer2(p2)\n",
    "        if result(p1,p2)==True:\n",
    "            finishP2=True\n",
    "    if len(used_num)==9:\n",
    "        break\n",
    "    displayBoard()\n",
    "if finishP1==False and finishP2==False:\n",
    "    print('Game Drawn!')\n",
    "if finishP1:\n",
    "    print('Game is won by Player 1!')\n",
    "if finishP2:\n",
    "    print('Game is won by Player 2!')"
   ]
  }
 ],
 "metadata": {
  "kernelspec": {
   "display_name": "Python 3",
   "language": "python",
   "name": "python3"
  },
  "language_info": {
   "codemirror_mode": {
    "name": "ipython",
    "version": 3
   },
   "file_extension": ".py",
   "mimetype": "text/x-python",
   "name": "python",
   "nbconvert_exporter": "python",
   "pygments_lexer": "ipython3",
   "version": "3.8.8"
  }
 },
 "nbformat": 4,
 "nbformat_minor": 5
}
